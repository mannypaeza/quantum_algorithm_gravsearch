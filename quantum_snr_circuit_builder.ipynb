{
 "cells": [
  {
   "cell_type": "code",
   "execution_count": 2,
   "id": "49ac959f-8c7a-4248-9076-3ca020a4ef8d",
   "metadata": {},
   "outputs": [],
   "source": [
    "import numpy as np\n",
    "import matplotlib.pyplot as plt\n",
    "import mthree\n",
    "\n",
    "# Importing standard Qiskit libraries\n",
    "from qiskit import execute, IBMQ, QuantumCircuit, transpile, assemble, Aer, ClassicalRegister, QuantumRegister\n",
    "from qiskit.circuit import Parameter, ParameterVector\n",
    "from qiskit.transpiler.coupling import CouplingMap\n",
    "from qiskit_machine_learning.circuit.library import RawFeatureVector\n",
    "from qiskit.circuit.library import QFT, RealAmplitudes\n",
    "from qiskit.visualization import plot_histogram\n",
    "from qiskit.providers.aer import AerSimulator, QasmSimulator\n",
    "from qiskit.providers.aer.noise import NoiseModel\n",
    "from qiskit.tools.jupyter import *\n",
    "from qiskit.visualization import *\n",
    "from ibm_quantum_widgets import *\n",
    "from qiskit.converters.circuit_to_dag import circuit_to_dag\n",
    "from qiskit.providers.ibmq import IBMQ\n",
    "from qiskit.providers.jobstatus import JobStatus\n"
   ]
  },
  {
   "cell_type": "code",
   "execution_count": 4,
   "id": "1ac7eda4-877f-4302-8f53-4a0378721b36",
   "metadata": {},
   "outputs": [],
   "source": [
    "%run utils.py "
   ]
  },
  {
   "cell_type": "code",
   "execution_count": 5,
   "id": "c1cf3069-4608-4658-acac-0748d9f192d6",
   "metadata": {},
   "outputs": [],
   "source": [
    "class bin_tree:\n",
    "    size = None\n",
    "    values = None\n",
    "\n",
    "    def __init__(self, values):\n",
    "        self.size = len(values)\n",
    "        self.values = values\n",
    "\n",
    "    def parent(self, key):\n",
    "        return int((key-0.5)/2)\n",
    "\n",
    "    def left(self, key):\n",
    "        return int(2 * key + 1)\n",
    "\n",
    "    def right(self, key):\n",
    "        return int(2 * key + 2)\n",
    "\n",
    "    def root(self):\n",
    "        return 0\n",
    "\n",
    "    def __getitem__(self, key):\n",
    "        return self.values[key]\n",
    "\n",
    "\n",
    "class Encoding:\n",
    "    qcircuit = None\n",
    "    quantum_data = None\n",
    "    classical_data = None\n",
    "    num_qubits = None\n",
    "    tree = None\n",
    "    output_qubits = []\n",
    "\n",
    "    def __init__(self, input_vector, encode_type='amplitude_encoding'):\n",
    "        if encode_type == 'amplitude_encoding':\n",
    "            self.amplitude_encoding(input_vector)\n",
    "        if encode_type == 'qubit_encoding':\n",
    "            self.qubit_encoding(input_vector)\n",
    "        if encode_type == 'dc_amplitude_encoding':\n",
    "            self.dc_amplitude_encoding(input_vector)\n",
    "        if encode_type == 'basis_encoding':\n",
    "            self.basis_encoding(input_vector)\n",
    "\n",
    "    def basis_encoding(self, input_vector, n_classical=1):\n",
    "        \"\"\"\n",
    "        encoding a binary string x in a basis state |x>\n",
    "        \"\"\"\n",
    "        self.num_qubits = int(len(input_vector))\n",
    "        self.quantum_data = qiskit.QuantumRegister(self.num_qubits)\n",
    "        self.classical_data = qiskit.ClassicalRegister(n_classical)\n",
    "        self.qcircuit = qiskit.QuantumCircuit(self.quantum_data, self.classical_data)\n",
    "        for k, _ in enumerate(input_vector):\n",
    "            if input_vector[k] == 1:\n",
    "                self.qcircuit.x(self.quantum_data[k])\n",
    "\n",
    "\n",
    "    def qubit_encoding(self, input_vector, n_classical=1):\n",
    "        \"\"\"\n",
    "        encoding a binary string x as\n",
    "        \"\"\"\n",
    "        input_pattern = qiskit.QuantumRegister(len(input_vector))\n",
    "        classical_register = qiskit.ClassicalRegister(n_classical)\n",
    "        self.qcircuit = qiskit.QuantumCircuit(input_pattern, classical_register)\n",
    "        for k, _ in enumerate(input_vector):\n",
    "            self.qcircuit.ry(input_vector[k], input_pattern[k])\n",
    "\n",
    "    @staticmethod\n",
    "    def _recursive_compute_beta(input_vector, betas):\n",
    "        if len(input_vector) > 1:\n",
    "            new_x = []\n",
    "            beta = []\n",
    "            for k in range(0, len(input_vector), 2):\n",
    "                norm = np.sqrt(input_vector[k] ** 2 + input_vector[k + 1] ** 2)\n",
    "                new_x.append(norm)\n",
    "                if norm == 0:\n",
    "                    beta.append(0)\n",
    "                else:\n",
    "                    if input_vector[k] < 0:\n",
    "                        beta.append(2 * np.pi - 2 * np.arcsin(input_vector[k + 1] / norm)) ## testing\n",
    "                    else:\n",
    "                        beta.append(2 * np.arcsin(input_vector[k + 1] / norm))\n",
    "            Encoding._recursive_compute_beta(new_x, betas)\n",
    "            betas.append(beta)\n",
    "            output = []\n",
    "\n",
    "    @staticmethod\n",
    "    def _index(k, circuit, control_qubits, numberof_controls):\n",
    "        binary_index = '{:0{}b}'.format(k, numberof_controls)\n",
    "        for j, qbit in enumerate(control_qubits):\n",
    "            if binary_index[j] == '1':\n",
    "                circuit.x(qbit)\n",
    "\n",
    "\n",
    "    def amplitude_encoding(self, input_vector):\n",
    "        \"\"\"\n",
    "        load real vector x to the amplitude of a quantum state\n",
    "        \"\"\"\n",
    "        self.num_qubits = int(np.log2(len(input_vector)))\n",
    "        self.quantum_data = qiskit.QuantumRegister(self.num_qubits)\n",
    "        self.qcircuit = qiskit.QuantumCircuit(self.quantum_data)\n",
    "        newx = np.copy(input_vector)\n",
    "        betas = []\n",
    "        Encoding._recursive_compute_beta(newx, betas)\n",
    "        self._generate_circuit(betas, self.qcircuit, self.quantum_data)\n",
    "\n",
    "    def dc_amplitude_encoding(self, input_vector):\n",
    "        self.num_qubits = int(len(input_vector))-1\n",
    "        self.quantum_data = qiskit.QuantumRegister(self.num_qubits)\n",
    "        self.qcircuit = qiskit.QuantumCircuit(self.quantum_data)\n",
    "        newx = np.copy(input_vector)\n",
    "        betas = []\n",
    "        Encoding._recursive_compute_beta(newx, betas)\n",
    "        self._dc_generate_circuit(betas, self.qcircuit, self.quantum_data)\n",
    "\n",
    "    def _dc_generate_circuit(self, betas, qcircuit, quantum_input):\n",
    "\n",
    "        k = 0\n",
    "        linear_angles = []\n",
    "        for angles in betas:\n",
    "            linear_angles = linear_angles + angles\n",
    "            for angle in angles:\n",
    "                qcircuit.ry(angle, quantum_input[k])\n",
    "                k += 1\n",
    "\n",
    "        self.tree = bin_tree(quantum_input)\n",
    "        my_tree = self.tree\n",
    "\n",
    "        last = my_tree.size - 1\n",
    "        actual = my_tree.parent(last)\n",
    "        level = my_tree.parent(last)\n",
    "        while actual >= 0:\n",
    "            left_index = my_tree.left(actual)\n",
    "            right_index = my_tree.right(actual)\n",
    "            while right_index <= last:\n",
    "\n",
    "                qcircuit.cswap(my_tree[actual], my_tree[left_index], my_tree[right_index])\n",
    "\n",
    "                left_index = my_tree.left(left_index)\n",
    "                right_index = my_tree.left(right_index)\n",
    "            actual -= 1\n",
    "            if level != my_tree.parent(actual):\n",
    "                level -= 1\n",
    "\n",
    "        # set output qubits\n",
    "        next_index = 0\n",
    "        while next_index < my_tree.size:\n",
    "            self.output_qubits.append(next_index)\n",
    "            next_index = my_tree.left(next_index)\n",
    "\n",
    "    def _generate_circuit(self, betas, qcircuit, quantum_input):\n",
    "        numberof_controls = 0  # number of controls\n",
    "        control_bits = []\n",
    "        for angles in betas:\n",
    "            if numberof_controls == 0:\n",
    "                qcircuit.ry(angles[0], quantum_input[self.num_qubits-1])\n",
    "                numberof_controls += 1\n",
    "                control_bits.append(quantum_input[self.num_qubits-1])\n",
    "            else:\n",
    "                for k, angle in enumerate(reversed(angles)):\n",
    "                    Encoding._index(k, qcircuit, control_bits, numberof_controls)\n",
    "\n",
    "                    qcircuit.mcry(angle,\n",
    "                                  control_bits,\n",
    "                                  quantum_input[self.num_qubits - 1 - numberof_controls],\n",
    "                                  None,\n",
    "                                  mode='noancilla')\n",
    "\n",
    "                    Encoding._index(k, qcircuit, control_bits, numberof_controls)\n",
    "                control_bits.append(quantum_input[self.num_qubits - 1 - numberof_controls])\n",
    "                numberof_controls += 1"
   ]
  },
  {
   "cell_type": "code",
   "execution_count": 6,
   "id": "3150af7b-aaca-4ca2-a89e-48baa365889e",
   "metadata": {},
   "outputs": [],
   "source": [
    "def sub_circ(w_: np.ndarray, h_: np.ndarray):   \n",
    "    qr = QuantumRegister(4)\n",
    "    cr = ClassicalRegister(3)\n",
    "    qc = QuantumCircuit(qr, cr)\n",
    "    \n",
    "    #data\n",
    "    betas_d = []\n",
    "    angles_d = []\n",
    "    Encoding._recursive_compute_beta(w_, betas_d) \n",
    "    for alist in betas_d:\n",
    "        angles_d = angles_d + alist\n",
    "\n",
    "    #signal\n",
    "    betas_s = []\n",
    "    angles_s = []\n",
    "    Encoding._recursive_compute_beta(h_, betas_s) \n",
    "    for alist in betas_s:\n",
    "        angles_s = angles_s + alist\n",
    "    \n",
    "    #add r circuits\n",
    "    for k, val in enumerate(angles_d):\n",
    "        qc.ry(val, k)\n",
    "\n",
    "    for k, val in enumerate(angles_s): \n",
    "        qc.ry(val, k+3)\n",
    "    \n",
    "    qc.cx(1,2)\n",
    "    qc.ccx(0,2,1)\n",
    "    qc.measure([0,1,3], [0,1,2])  \n",
    "    \n",
    "    return qc\n",
    "        \n",
    "    \n",
    "def circuit_builder(w_features: np.ndarray, h_features: np.ndarray, real_device):\n",
    "    \n",
    "    circuits_list = []\n",
    "    for i in range(0, 100): \n",
    "        \n",
    "        #break data into parts\n",
    "        w_features = data[i]\n",
    "        w_features = w_features / np.linalg.norm(w_features)\n",
    "        \n",
    "        #get subcircuit\n",
    "        qc_sub = sub_circ(w_features, h_features)\n",
    "        \n",
    "        #To create correct circuit\n",
    "        while True: \n",
    "            compiled_circuit = transpile(qc_sub, real_device, optimization_level=3)\n",
    "            initial_layout = compiled_circuit\n",
    "            one_minus_error=1\n",
    "            for j in range(len(initial_layout) - 1):\n",
    "                if(len(initial_layout[j][1]) == 2):\n",
    "                    one_minus_error *= 1 - real_device.properties().gate_property('cx')[(initial_layout[j][1][0].index, initial_layout[j][1][1].index)]['gate_error'][0]\n",
    "            print('Circuit: '+str(i) + '# CX gates: ', compiled_circuit.count_ops()['cx'])\n",
    "            print('1-error of circ '+str(i), one_minus_error)\n",
    "            if (compiled_circuit.count_ops()['cx']<=7 and one_minus_error > 0.92):\n",
    "                print('Circuit: '+str(i)+'# CX gates: ', compiled_circuit.count_ops()['cx'])\n",
    "                print('1-error of circ '+str(i), one_minus_error)\n",
    "                break\n",
    "            \n",
    "        circuits_list.append(compiled_circuit)\n",
    "    \n",
    "    return circuits_list\n",
    "\n",
    "\"\"\"\n",
    "The Signal/Data Calculation\n",
    "\"\"\"\n",
    "\n",
    "def SNR(countsa, data, datashift, h_features, signalshift, shots):\n",
    "     \n",
    "    table = ['000','110','010','101','001','111']\n",
    "    \n",
    "    q4 = np.zeros((100,3))\n",
    "    cl4 = np.zeros((100,3))\n",
    "    qp4 = np.zeros((100,3))\n",
    "    clp4 = np.zeros((100,3))\n",
    "    corr = np.zeros((100,3))\n",
    "    \n",
    "    for j in range(0, 100): \n",
    "        counts = countsa[j] \n",
    "\n",
    "        for i in range(0, 3):  \n",
    "            w_features = data[j][i:i+2]\n",
    "            w_features = w_features / np.linalg.norm(w_features)\n",
    "            w_features1 = data[j][i:i+2] ** 2 - datashift[j][0]\n",
    "            \n",
    "\n",
    "            qp4[j][i] = ((counts[table[2*i]]+counts[table[2*i+1]])/(shots))\n",
    "            clp4[j][i]= (np.dot(dd[j][i:i+2], h_features1) + np.sum(datashift[j][0]*h_features1 + signalshift*w_features1 + datashift[j][0]*signalshift)) / (np.linalg.norm((h_features1+signalshift)**0.5)**2*np.linalg.norm(data[j])**2)\n",
    "            q4[j][i] = ((counts[table[2*i]]+counts[table[2*i+1]])/(shots)) * np.linalg.norm((h_features1+signalshift)**0.5)**2 * np.linalg.norm(data[j])**2 - np.sum(datashift[j][0]*h_features1+signalshift*w_features1+datashift[j][0]*signalshift)\n",
    "            cl4[j][i] = (np.dot(dd[j][i:i+2], h_features1))\n",
    "            corr[j][i] = (np.sum(datashift[j][0]*h_features1 + signalshift*w_features1 + datashift[j][0]*signalshift))\n",
    "                            \n",
    "    #Plotting\n",
    "    plt.figure()\n",
    "    plt.scatter(cl4, q4, color=\"blue\") \n",
    "    plt.xlabel('True SNR')\n",
    "    plt.ylabel('Quantum SNR')\n",
    "    plt.legend()\n",
    "    plt.grid()\n",
    "    \n",
    "    plt.figure()\n",
    "    plt.scatter(corr, cl4, color=\"blue\") \n",
    "    plt.xlabel('True SNR')\n",
    "    plt.ylabel('SNR error')\n",
    "    plt.legend()\n",
    "    plt.grid()\n",
    "\n",
    "    \n",
    "def job_circuit(h_features, signalshift, data, datashift, shots, real_device):  \n",
    "    #main code\n",
    "    circuits_list = circuit_builder(data, h_features, real_device)\n",
    "    job = execute(circuits_list, real_device, shots=shots)\n",
    "    return job"
   ]
  },
  {
   "cell_type": "code",
   "execution_count": 30,
   "id": "81df156d-5947-4971-94b6-52d0871b6d03",
   "metadata": {},
   "outputs": [
    {
     "name": "stderr",
     "output_type": "stream",
     "text": [
      "ibmqfactory.load_account:WARNING:2023-05-12 10:40:38,306: Credentials are already in use. The existing account in the session will be replaced.\n"
     ]
    },
    {
     "data": {
      "text/html": [
       "<pre>&lt;qiskit.providers.models.backendstatus.BackendStatus object at 0x7f4291d11510&gt;</pre><b>name</b>: ibmq_belem<br/><b>version</b>: 1.2.8, <b>pending jobs</b>: 31<br/><b>status</b>: active<br/>"
      ],
      "text/plain": [
       "<qiskit.providers.models.backendstatus.BackendStatus at 0x7f4291d11510>"
      ]
     },
     "execution_count": 30,
     "metadata": {},
     "output_type": "execute_result"
    }
   ],
   "source": [
    "IBMQ.load_account()\n",
    "IBMQ.providers()\n",
    "provider = IBMQ.get_provider(hub='ibm-q-research-2', group='columbia-uni-1', project='main')\n",
    "provider.backends()\n",
    "real_device = provider.get_backend('ibmq_belem')\n",
    "real_device.status()"
   ]
  },
  {
   "cell_type": "code",
   "execution_count": 35,
   "id": "bfbe6d0d-bf7f-482d-9802-989e16315ca1",
   "metadata": {},
   "outputs": [],
   "source": [
    "def save_jobs_to_file(job, filename):\n",
    "    #open file\n",
    "    with open(filename, 'w') as f:\n",
    "        f.write(job.job_id())\n",
    "        f.write('\\n')\n",
    "\n",
    "def load_jobs_from_file(name_of_device, filename):\n",
    "    IBMQ.load_account()\n",
    "    provider = IBMQ.get_provider(hub='ibm-q-research-2', group='columbia-uni-1', project='main')\n",
    "    device = provider.get_backend('ibmq_belem')\n",
    "    \n",
    "    list_of_jobs = []\n",
    "    with open(filename,'r') as f:\n",
    "        job_ids = f.readlines()\n",
    "        for job_id in job_ids:\n",
    "            job = device.retrieve_job(job_id.strip())\n",
    "            list_of_jobs.append(job)\n",
    "            \n",
    "    return list_of_jobs\n",
    "\n",
    "def print_job_statuses(list_of_jobs):\n",
    "    for job in list_of_jobs:\n",
    "        print(\"id: \",job.job_id(),\" status: \", job.status())\n",
    "        \n",
    "def retrieve_job_results(job,blocking=True):\n",
    "    \n",
    "    #if it's blocking, then just go ahead and call result()\n",
    "    if blocking:\n",
    "        counts = job.result().get_counts()\n",
    "        return counts\n",
    "    else:\n",
    "        #first, check the status\n",
    "        job_status = job.status()\n",
    "    \n",
    "        if job_status is JobStatus.DONE:\n",
    "            counts = job.result().get_counts()\n",
    "            return counts            \n",
    "        else:\n",
    "            print(\"The job \",job.job_id,\" has status: \",job_status)\n",
    "            return None"
   ]
  },
  {
   "cell_type": "code",
   "execution_count": 32,
   "id": "1de522de-19f5-450e-aa64-061b14f5cb55",
   "metadata": {},
   "outputs": [],
   "source": [
    "h_features1 = np.array([2, -1])\n",
    "signalshift = -min(h_features1) + 0.1 \n",
    "h_features = (h_features1 + signalshift) ** 0.5  \n",
    "h_features = h_features / np.linalg.norm(h_features)\n",
    "\n",
    "#data\n",
    "dd = np.zeros((100, 4))\n",
    "datashift = np.zeros((100, 4))\n",
    "data = np.zeros((100, 4))\n",
    "shots = 20000\n",
    "for i in range(0, 100):\n",
    "    dd[i] = np.random.normal(0, 1, 4)\n",
    "    datashift[i] = -min(dd[i]) + 0.1\n",
    "    data[i] = (dd[i] + datashift[i]) ** 0.5 #don't normalize yet \n"
   ]
  },
  {
   "cell_type": "code",
   "execution_count": 33,
   "id": "5e775759-2cb9-44b0-8906-d59e4ededb53",
   "metadata": {
    "tags": []
   },
   "outputs": [
    {
     "name": "stderr",
     "output_type": "stream",
     "text": [
      "/tmp/ipykernel_62/1828976583.py:53: DeprecationWarning: 'Bit.index' is deprecated since Qiskit Terra 0.17 and will be removed in a future release. Bits may be in more than one register. Use 'QuantumCircuit.find_bit' to find all the containing registers within a circuit, and the index of the bit within the circuit.\n",
      "  one_minus_error *= 1 - real_device.properties().gate_property('cx')[(initial_layout[j][1][0].index, initial_layout[j][1][1].index)]['gate_error'][0]\n"
     ]
    },
    {
     "name": "stdout",
     "output_type": "stream",
     "text": [
      "Circuit: 0# CX gates:  9\n",
      "1-error of circ 0 0.9452724009644479\n",
      "Circuit: 0# CX gates:  7\n",
      "1-error of circ 0 0.9574086878574531\n",
      "Circuit: 0# CX gates:  7\n",
      "1-error of circ 0 0.9574086878574531\n",
      "Circuit: 1# CX gates:  7\n",
      "1-error of circ 1 0.9574086878574531\n",
      "Circuit: 1# CX gates:  7\n",
      "1-error of circ 1 0.9574086878574531\n",
      "Circuit: 2# CX gates:  7\n",
      "1-error of circ 2 0.9574086878574531\n",
      "Circuit: 2# CX gates:  7\n",
      "1-error of circ 2 0.9574086878574531\n",
      "Circuit: 3# CX gates:  9\n",
      "1-error of circ 3 0.9452724009644479\n",
      "Circuit: 3# CX gates:  9\n",
      "1-error of circ 3 0.9452724009644479\n",
      "Circuit: 3# CX gates:  9\n",
      "1-error of circ 3 0.9455383692040399\n",
      "Circuit: 3# CX gates:  9\n",
      "1-error of circ 3 0.9452724009644479\n",
      "Circuit: 3# CX gates:  7\n",
      "1-error of circ 3 0.9574086878574531\n",
      "Circuit: 3# CX gates:  7\n",
      "1-error of circ 3 0.9574086878574531\n",
      "Circuit: 4# CX gates:  7\n",
      "1-error of circ 4 0.9574086878574531\n",
      "Circuit: 4# CX gates:  7\n",
      "1-error of circ 4 0.9574086878574531\n",
      "Circuit: 5# CX gates:  7\n",
      "1-error of circ 5 0.9574086878574531\n",
      "Circuit: 5# CX gates:  7\n",
      "1-error of circ 5 0.9574086878574531\n",
      "Circuit: 6# CX gates:  9\n",
      "1-error of circ 6 0.9452724009644479\n",
      "Circuit: 6# CX gates:  9\n",
      "1-error of circ 6 0.9452724009644479\n",
      "Circuit: 6# CX gates:  7\n",
      "1-error of circ 6 0.9574086878574531\n",
      "Circuit: 6# CX gates:  7\n",
      "1-error of circ 6 0.9574086878574531\n",
      "Circuit: 7# CX gates:  7\n",
      "1-error of circ 7 0.9574086878574531\n",
      "Circuit: 7# CX gates:  7\n",
      "1-error of circ 7 0.9574086878574531\n",
      "Circuit: 8# CX gates:  7\n",
      "1-error of circ 8 0.9574086878574531\n",
      "Circuit: 8# CX gates:  7\n",
      "1-error of circ 8 0.9574086878574531\n",
      "Circuit: 9# CX gates:  7\n",
      "1-error of circ 9 0.9574086878574531\n",
      "Circuit: 9# CX gates:  7\n",
      "1-error of circ 9 0.9574086878574531\n",
      "Circuit: 10# CX gates:  9\n",
      "1-error of circ 10 0.9452724009644479\n",
      "Circuit: 10# CX gates:  7\n",
      "1-error of circ 10 0.9574086878574531\n",
      "Circuit: 10# CX gates:  7\n",
      "1-error of circ 10 0.9574086878574531\n",
      "Circuit: 11# CX gates:  7\n",
      "1-error of circ 11 0.9574086878574531\n",
      "Circuit: 11# CX gates:  7\n",
      "1-error of circ 11 0.9574086878574531\n",
      "Circuit: 12# CX gates:  7\n",
      "1-error of circ 12 0.9574086878574531\n",
      "Circuit: 12# CX gates:  7\n",
      "1-error of circ 12 0.9574086878574531\n",
      "Circuit: 13# CX gates:  9\n",
      "1-error of circ 13 0.9452724009644479\n",
      "Circuit: 13# CX gates:  7\n",
      "1-error of circ 13 0.9574086878574531\n",
      "Circuit: 13# CX gates:  7\n",
      "1-error of circ 13 0.9574086878574531\n",
      "Circuit: 14# CX gates:  7\n",
      "1-error of circ 14 0.9574086878574531\n",
      "Circuit: 14# CX gates:  7\n",
      "1-error of circ 14 0.9574086878574531\n",
      "Circuit: 15# CX gates:  9\n",
      "1-error of circ 15 0.9455383692040399\n",
      "Circuit: 15# CX gates:  7\n",
      "1-error of circ 15 0.9574086878574531\n",
      "Circuit: 15# CX gates:  7\n",
      "1-error of circ 15 0.9574086878574531\n",
      "Circuit: 16# CX gates:  7\n",
      "1-error of circ 16 0.9574086878574531\n",
      "Circuit: 16# CX gates:  7\n",
      "1-error of circ 16 0.9574086878574531\n",
      "Circuit: 17# CX gates:  9\n",
      "1-error of circ 17 0.9455383692040399\n",
      "Circuit: 17# CX gates:  7\n",
      "1-error of circ 17 0.9574086878574531\n",
      "Circuit: 17# CX gates:  7\n",
      "1-error of circ 17 0.9574086878574531\n",
      "Circuit: 18# CX gates:  7\n",
      "1-error of circ 18 0.9574086878574531\n",
      "Circuit: 18# CX gates:  7\n",
      "1-error of circ 18 0.9574086878574531\n",
      "Circuit: 19# CX gates:  9\n",
      "1-error of circ 19 0.9452724009644479\n",
      "Circuit: 19# CX gates:  9\n",
      "1-error of circ 19 0.9452724009644479\n",
      "Circuit: 19# CX gates:  7\n",
      "1-error of circ 19 0.9574086878574531\n",
      "Circuit: 19# CX gates:  7\n",
      "1-error of circ 19 0.9574086878574531\n",
      "Circuit: 20# CX gates:  7\n",
      "1-error of circ 20 0.9574086878574531\n",
      "Circuit: 20# CX gates:  7\n",
      "1-error of circ 20 0.9574086878574531\n",
      "Circuit: 21# CX gates:  9\n",
      "1-error of circ 21 0.9452724009644479\n",
      "Circuit: 21# CX gates:  9\n",
      "1-error of circ 21 0.9452724009644479\n",
      "Circuit: 21# CX gates:  9\n",
      "1-error of circ 21 0.9452724009644479\n",
      "Circuit: 21# CX gates:  9\n",
      "1-error of circ 21 0.9455383692040399\n",
      "Circuit: 21# CX gates:  7\n",
      "1-error of circ 21 0.9574086878574531\n",
      "Circuit: 21# CX gates:  7\n",
      "1-error of circ 21 0.9574086878574531\n",
      "Circuit: 22# CX gates:  9\n",
      "1-error of circ 22 0.9452724009644479\n",
      "Circuit: 22# CX gates:  9\n",
      "1-error of circ 22 0.9455383692040399\n",
      "Circuit: 22# CX gates:  9\n",
      "1-error of circ 22 0.9452724009644479\n",
      "Circuit: 22# CX gates:  9\n",
      "1-error of circ 22 0.9452724009644479\n",
      "Circuit: 22# CX gates:  7\n",
      "1-error of circ 22 0.9574086878574531\n",
      "Circuit: 22# CX gates:  7\n",
      "1-error of circ 22 0.9574086878574531\n",
      "Circuit: 23# CX gates:  7\n",
      "1-error of circ 23 0.9574086878574531\n",
      "Circuit: 23# CX gates:  7\n",
      "1-error of circ 23 0.9574086878574531\n",
      "Circuit: 24# CX gates:  9\n",
      "1-error of circ 24 0.9452724009644479\n",
      "Circuit: 24# CX gates:  9\n",
      "1-error of circ 24 0.9452724009644479\n",
      "Circuit: 24# CX gates:  9\n",
      "1-error of circ 24 0.9452724009644479\n",
      "Circuit: 24# CX gates:  9\n",
      "1-error of circ 24 0.9452724009644479\n",
      "Circuit: 24# CX gates:  9\n",
      "1-error of circ 24 0.9452724009644479\n",
      "Circuit: 24# CX gates:  7\n",
      "1-error of circ 24 0.9574086878574531\n",
      "Circuit: 24# CX gates:  7\n",
      "1-error of circ 24 0.9574086878574531\n",
      "Circuit: 25# CX gates:  9\n",
      "1-error of circ 25 0.9455383692040399\n",
      "Circuit: 25# CX gates:  9\n",
      "1-error of circ 25 0.9452724009644479\n",
      "Circuit: 25# CX gates:  9\n",
      "1-error of circ 25 0.9452724009644479\n",
      "Circuit: 25# CX gates:  9\n",
      "1-error of circ 25 0.9452724009644479\n",
      "Circuit: 25# CX gates:  7\n",
      "1-error of circ 25 0.9574086878574531\n",
      "Circuit: 25# CX gates:  7\n",
      "1-error of circ 25 0.9574086878574531\n",
      "Circuit: 26# CX gates:  7\n",
      "1-error of circ 26 0.9574086878574531\n",
      "Circuit: 26# CX gates:  7\n",
      "1-error of circ 26 0.9574086878574531\n",
      "Circuit: 27# CX gates:  7\n",
      "1-error of circ 27 0.9574086878574531\n",
      "Circuit: 27# CX gates:  7\n",
      "1-error of circ 27 0.9574086878574531\n",
      "Circuit: 28# CX gates:  7\n",
      "1-error of circ 28 0.9574086878574531\n",
      "Circuit: 28# CX gates:  7\n",
      "1-error of circ 28 0.9574086878574531\n",
      "Circuit: 29# CX gates:  9\n",
      "1-error of circ 29 0.9452724009644479\n",
      "Circuit: 29# CX gates:  9\n",
      "1-error of circ 29 0.9452724009644479\n",
      "Circuit: 29# CX gates:  9\n",
      "1-error of circ 29 0.9452724009644479\n",
      "Circuit: 29# CX gates:  7\n",
      "1-error of circ 29 0.9574086878574531\n",
      "Circuit: 29# CX gates:  7\n",
      "1-error of circ 29 0.9574086878574531\n",
      "Circuit: 30# CX gates:  7\n",
      "1-error of circ 30 0.9574086878574531\n",
      "Circuit: 30# CX gates:  7\n",
      "1-error of circ 30 0.9574086878574531\n",
      "Circuit: 31# CX gates:  9\n",
      "1-error of circ 31 0.9452724009644479\n",
      "Circuit: 31# CX gates:  7\n",
      "1-error of circ 31 0.9574086878574531\n",
      "Circuit: 31# CX gates:  7\n",
      "1-error of circ 31 0.9574086878574531\n",
      "Circuit: 32# CX gates:  7\n",
      "1-error of circ 32 0.9574086878574531\n",
      "Circuit: 32# CX gates:  7\n",
      "1-error of circ 32 0.9574086878574531\n",
      "Circuit: 33# CX gates:  9\n",
      "1-error of circ 33 0.9455383692040399\n",
      "Circuit: 33# CX gates:  7\n",
      "1-error of circ 33 0.9574086878574531\n",
      "Circuit: 33# CX gates:  7\n",
      "1-error of circ 33 0.9574086878574531\n",
      "Circuit: 34# CX gates:  7\n",
      "1-error of circ 34 0.9574086878574531\n",
      "Circuit: 34# CX gates:  7\n",
      "1-error of circ 34 0.9574086878574531\n",
      "Circuit: 35# CX gates:  7\n",
      "1-error of circ 35 0.9574086878574531\n",
      "Circuit: 35# CX gates:  7\n",
      "1-error of circ 35 0.9574086878574531\n",
      "Circuit: 36# CX gates:  7\n",
      "1-error of circ 36 0.9574086878574531\n",
      "Circuit: 36# CX gates:  7\n",
      "1-error of circ 36 0.9574086878574531\n",
      "Circuit: 37# CX gates:  7\n",
      "1-error of circ 37 0.9574086878574531\n",
      "Circuit: 37# CX gates:  7\n",
      "1-error of circ 37 0.9574086878574531\n",
      "Circuit: 38# CX gates:  7\n",
      "1-error of circ 38 0.9574086878574531\n",
      "Circuit: 38# CX gates:  7\n",
      "1-error of circ 38 0.9574086878574531\n",
      "Circuit: 39# CX gates:  9\n",
      "1-error of circ 39 0.9452724009644479\n",
      "Circuit: 39# CX gates:  7\n",
      "1-error of circ 39 0.9574086878574531\n",
      "Circuit: 39# CX gates:  7\n",
      "1-error of circ 39 0.9574086878574531\n",
      "Circuit: 40# CX gates:  9\n",
      "1-error of circ 40 0.9455383692040399\n",
      "Circuit: 40# CX gates:  7\n",
      "1-error of circ 40 0.9574086878574531\n",
      "Circuit: 40# CX gates:  7\n",
      "1-error of circ 40 0.9574086878574531\n",
      "Circuit: 41# CX gates:  7\n",
      "1-error of circ 41 0.9574086878574531\n",
      "Circuit: 41# CX gates:  7\n",
      "1-error of circ 41 0.9574086878574531\n",
      "Circuit: 42# CX gates:  9\n",
      "1-error of circ 42 0.9452724009644479\n",
      "Circuit: 42# CX gates:  9\n",
      "1-error of circ 42 0.9452724009644479\n",
      "Circuit: 42# CX gates:  7\n",
      "1-error of circ 42 0.9574086878574531\n",
      "Circuit: 42# CX gates:  7\n",
      "1-error of circ 42 0.9574086878574531\n",
      "Circuit: 43# CX gates:  9\n",
      "1-error of circ 43 0.9452724009644479\n",
      "Circuit: 43# CX gates:  7\n",
      "1-error of circ 43 0.9574086878574531\n",
      "Circuit: 43# CX gates:  7\n",
      "1-error of circ 43 0.9574086878574531\n",
      "Circuit: 44# CX gates:  7\n",
      "1-error of circ 44 0.9574086878574531\n",
      "Circuit: 44# CX gates:  7\n",
      "1-error of circ 44 0.9574086878574531\n",
      "Circuit: 45# CX gates:  7\n",
      "1-error of circ 45 0.9574086878574531\n",
      "Circuit: 45# CX gates:  7\n",
      "1-error of circ 45 0.9574086878574531\n",
      "Circuit: 46# CX gates:  7\n",
      "1-error of circ 46 0.9574086878574531\n",
      "Circuit: 46# CX gates:  7\n",
      "1-error of circ 46 0.9574086878574531\n",
      "Circuit: 47# CX gates:  9\n",
      "1-error of circ 47 0.9452724009644479\n",
      "Circuit: 47# CX gates:  9\n",
      "1-error of circ 47 0.9452724009644479\n",
      "Circuit: 47# CX gates:  7\n",
      "1-error of circ 47 0.9574086878574531\n",
      "Circuit: 47# CX gates:  7\n",
      "1-error of circ 47 0.9574086878574531\n",
      "Circuit: 48# CX gates:  9\n",
      "1-error of circ 48 0.9452724009644479\n",
      "Circuit: 48# CX gates:  7\n",
      "1-error of circ 48 0.9574086878574531\n",
      "Circuit: 48# CX gates:  7\n",
      "1-error of circ 48 0.9574086878574531\n",
      "Circuit: 49# CX gates:  9\n",
      "1-error of circ 49 0.9452724009644479\n",
      "Circuit: 49# CX gates:  9\n",
      "1-error of circ 49 0.9452724009644479\n",
      "Circuit: 49# CX gates:  9\n",
      "1-error of circ 49 0.9452724009644479\n",
      "Circuit: 49# CX gates:  7\n",
      "1-error of circ 49 0.9574086878574531\n",
      "Circuit: 49# CX gates:  7\n",
      "1-error of circ 49 0.9574086878574531\n",
      "Circuit: 50# CX gates:  9\n",
      "1-error of circ 50 0.9452724009644479\n",
      "Circuit: 50# CX gates:  9\n",
      "1-error of circ 50 0.9455383692040399\n",
      "Circuit: 50# CX gates:  9\n",
      "1-error of circ 50 0.9452724009644479\n",
      "Circuit: 50# CX gates:  9\n",
      "1-error of circ 50 0.9452724009644479\n",
      "Circuit: 50# CX gates:  7\n",
      "1-error of circ 50 0.9574086878574531\n",
      "Circuit: 50# CX gates:  7\n",
      "1-error of circ 50 0.9574086878574531\n",
      "Circuit: 51# CX gates:  9\n",
      "1-error of circ 51 0.9452724009644479\n",
      "Circuit: 51# CX gates:  7\n",
      "1-error of circ 51 0.9574086878574531\n",
      "Circuit: 51# CX gates:  7\n",
      "1-error of circ 51 0.9574086878574531\n",
      "Circuit: 52# CX gates:  9\n",
      "1-error of circ 52 0.9452724009644479\n",
      "Circuit: 52# CX gates:  9\n",
      "1-error of circ 52 0.9452724009644479\n",
      "Circuit: 52# CX gates:  7\n",
      "1-error of circ 52 0.9574086878574531\n",
      "Circuit: 52# CX gates:  7\n",
      "1-error of circ 52 0.9574086878574531\n",
      "Circuit: 53# CX gates:  7\n",
      "1-error of circ 53 0.9574086878574531\n",
      "Circuit: 53# CX gates:  7\n",
      "1-error of circ 53 0.9574086878574531\n",
      "Circuit: 54# CX gates:  7\n",
      "1-error of circ 54 0.9574086878574531\n",
      "Circuit: 54# CX gates:  7\n",
      "1-error of circ 54 0.9574086878574531\n",
      "Circuit: 55# CX gates:  9\n",
      "1-error of circ 55 0.9452724009644479\n",
      "Circuit: 55# CX gates:  7\n",
      "1-error of circ 55 0.9574086878574531\n",
      "Circuit: 55# CX gates:  7\n",
      "1-error of circ 55 0.9574086878574531\n",
      "Circuit: 56# CX gates:  9\n",
      "1-error of circ 56 0.9452724009644479\n",
      "Circuit: 56# CX gates:  7\n",
      "1-error of circ 56 0.9574086878574531\n",
      "Circuit: 56# CX gates:  7\n",
      "1-error of circ 56 0.9574086878574531\n",
      "Circuit: 57# CX gates:  7\n",
      "1-error of circ 57 0.9574086878574531\n",
      "Circuit: 57# CX gates:  7\n",
      "1-error of circ 57 0.9574086878574531\n",
      "Circuit: 58# CX gates:  9\n",
      "1-error of circ 58 0.9452724009644479\n",
      "Circuit: 58# CX gates:  7\n",
      "1-error of circ 58 0.9574086878574531\n",
      "Circuit: 58# CX gates:  7\n",
      "1-error of circ 58 0.9574086878574531\n",
      "Circuit: 59# CX gates:  7\n",
      "1-error of circ 59 0.9574086878574531\n",
      "Circuit: 59# CX gates:  7\n",
      "1-error of circ 59 0.9574086878574531\n",
      "Circuit: 60# CX gates:  7\n",
      "1-error of circ 60 0.9574086878574531\n",
      "Circuit: 60# CX gates:  7\n",
      "1-error of circ 60 0.9574086878574531\n",
      "Circuit: 61# CX gates:  7\n",
      "1-error of circ 61 0.9574086878574531\n",
      "Circuit: 61# CX gates:  7\n",
      "1-error of circ 61 0.9574086878574531\n",
      "Circuit: 62# CX gates:  9\n",
      "1-error of circ 62 0.9452724009644479\n",
      "Circuit: 62# CX gates:  7\n",
      "1-error of circ 62 0.9574086878574531\n",
      "Circuit: 62# CX gates:  7\n",
      "1-error of circ 62 0.9574086878574531\n",
      "Circuit: 63# CX gates:  9\n",
      "1-error of circ 63 0.9452724009644479\n",
      "Circuit: 63# CX gates:  9\n",
      "1-error of circ 63 0.9452724009644479\n",
      "Circuit: 63# CX gates:  9\n",
      "1-error of circ 63 0.9452724009644479\n",
      "Circuit: 63# CX gates:  7\n",
      "1-error of circ 63 0.9574086878574531\n",
      "Circuit: 63# CX gates:  7\n",
      "1-error of circ 63 0.9574086878574531\n",
      "Circuit: 64# CX gates:  9\n",
      "1-error of circ 64 0.9455383692040399\n",
      "Circuit: 64# CX gates:  7\n",
      "1-error of circ 64 0.9574086878574531\n",
      "Circuit: 64# CX gates:  7\n",
      "1-error of circ 64 0.9574086878574531\n",
      "Circuit: 65# CX gates:  7\n",
      "1-error of circ 65 0.9574086878574531\n",
      "Circuit: 65# CX gates:  7\n",
      "1-error of circ 65 0.9574086878574531\n",
      "Circuit: 66# CX gates:  9\n",
      "1-error of circ 66 0.9452724009644479\n",
      "Circuit: 66# CX gates:  9\n",
      "1-error of circ 66 0.9452724009644479\n",
      "Circuit: 66# CX gates:  7\n",
      "1-error of circ 66 0.9574086878574531\n",
      "Circuit: 66# CX gates:  7\n",
      "1-error of circ 66 0.9574086878574531\n",
      "Circuit: 67# CX gates:  7\n",
      "1-error of circ 67 0.9574086878574531\n",
      "Circuit: 67# CX gates:  7\n",
      "1-error of circ 67 0.9574086878574531\n",
      "Circuit: 68# CX gates:  7\n",
      "1-error of circ 68 0.9574086878574531\n",
      "Circuit: 68# CX gates:  7\n",
      "1-error of circ 68 0.9574086878574531\n",
      "Circuit: 69# CX gates:  7\n",
      "1-error of circ 69 0.9574086878574531\n",
      "Circuit: 69# CX gates:  7\n",
      "1-error of circ 69 0.9574086878574531\n",
      "Circuit: 70# CX gates:  7\n",
      "1-error of circ 70 0.9574086878574531\n",
      "Circuit: 70# CX gates:  7\n",
      "1-error of circ 70 0.9574086878574531\n",
      "Circuit: 71# CX gates:  7\n",
      "1-error of circ 71 0.9574086878574531\n",
      "Circuit: 71# CX gates:  7\n",
      "1-error of circ 71 0.9574086878574531\n",
      "Circuit: 72# CX gates:  7\n",
      "1-error of circ 72 0.9574086878574531\n",
      "Circuit: 72# CX gates:  7\n",
      "1-error of circ 72 0.9574086878574531\n",
      "Circuit: 73# CX gates:  7\n",
      "1-error of circ 73 0.9574086878574531\n",
      "Circuit: 73# CX gates:  7\n",
      "1-error of circ 73 0.9574086878574531\n",
      "Circuit: 74# CX gates:  7\n",
      "1-error of circ 74 0.9574086878574531\n",
      "Circuit: 74# CX gates:  7\n",
      "1-error of circ 74 0.9574086878574531\n",
      "Circuit: 75# CX gates:  9\n",
      "1-error of circ 75 0.9455383692040399\n",
      "Circuit: 75# CX gates:  9\n",
      "1-error of circ 75 0.9452724009644479\n",
      "Circuit: 75# CX gates:  7\n",
      "1-error of circ 75 0.9574086878574531\n",
      "Circuit: 75# CX gates:  7\n",
      "1-error of circ 75 0.9574086878574531\n",
      "Circuit: 76# CX gates:  9\n",
      "1-error of circ 76 0.9452724009644479\n",
      "Circuit: 76# CX gates:  9\n",
      "1-error of circ 76 0.9452724009644479\n",
      "Circuit: 76# CX gates:  7\n",
      "1-error of circ 76 0.9574086878574531\n",
      "Circuit: 76# CX gates:  7\n",
      "1-error of circ 76 0.9574086878574531\n",
      "Circuit: 77# CX gates:  7\n",
      "1-error of circ 77 0.9574086878574531\n",
      "Circuit: 77# CX gates:  7\n",
      "1-error of circ 77 0.9574086878574531\n",
      "Circuit: 78# CX gates:  7\n",
      "1-error of circ 78 0.9574086878574531\n",
      "Circuit: 78# CX gates:  7\n",
      "1-error of circ 78 0.9574086878574531\n",
      "Circuit: 79# CX gates:  7\n",
      "1-error of circ 79 0.9574086878574531\n",
      "Circuit: 79# CX gates:  7\n",
      "1-error of circ 79 0.9574086878574531\n",
      "Circuit: 80# CX gates:  9\n",
      "1-error of circ 80 0.9455383692040399\n",
      "Circuit: 80# CX gates:  9\n",
      "1-error of circ 80 0.9452724009644479\n",
      "Circuit: 80# CX gates:  9\n",
      "1-error of circ 80 0.9452724009644479\n",
      "Circuit: 80# CX gates:  7\n",
      "1-error of circ 80 0.9574086878574531\n",
      "Circuit: 80# CX gates:  7\n",
      "1-error of circ 80 0.9574086878574531\n",
      "Circuit: 81# CX gates:  7\n",
      "1-error of circ 81 0.9574086878574531\n",
      "Circuit: 81# CX gates:  7\n",
      "1-error of circ 81 0.9574086878574531\n",
      "Circuit: 82# CX gates:  7\n",
      "1-error of circ 82 0.9574086878574531\n",
      "Circuit: 82# CX gates:  7\n",
      "1-error of circ 82 0.9574086878574531\n",
      "Circuit: 83# CX gates:  9\n",
      "1-error of circ 83 0.9452724009644479\n",
      "Circuit: 83# CX gates:  9\n",
      "1-error of circ 83 0.9452724009644479\n",
      "Circuit: 83# CX gates:  7\n",
      "1-error of circ 83 0.9574086878574531\n",
      "Circuit: 83# CX gates:  7\n",
      "1-error of circ 83 0.9574086878574531\n",
      "Circuit: 84# CX gates:  9\n",
      "1-error of circ 84 0.9452724009644479\n",
      "Circuit: 84# CX gates:  9\n",
      "1-error of circ 84 0.9452724009644479\n",
      "Circuit: 84# CX gates:  7\n",
      "1-error of circ 84 0.9574086878574531\n",
      "Circuit: 84# CX gates:  7\n",
      "1-error of circ 84 0.9574086878574531\n",
      "Circuit: 85# CX gates:  7\n",
      "1-error of circ 85 0.9574086878574531\n",
      "Circuit: 85# CX gates:  7\n",
      "1-error of circ 85 0.9574086878574531\n",
      "Circuit: 86# CX gates:  9\n",
      "1-error of circ 86 0.9452724009644479\n",
      "Circuit: 86# CX gates:  7\n",
      "1-error of circ 86 0.9574086878574531\n",
      "Circuit: 86# CX gates:  7\n",
      "1-error of circ 86 0.9574086878574531\n",
      "Circuit: 87# CX gates:  9\n",
      "1-error of circ 87 0.9452724009644479\n",
      "Circuit: 87# CX gates:  7\n",
      "1-error of circ 87 0.9574086878574531\n",
      "Circuit: 87# CX gates:  7\n",
      "1-error of circ 87 0.9574086878574531\n",
      "Circuit: 88# CX gates:  7\n",
      "1-error of circ 88 0.9574086878574531\n",
      "Circuit: 88# CX gates:  7\n",
      "1-error of circ 88 0.9574086878574531\n",
      "Circuit: 89# CX gates:  7\n",
      "1-error of circ 89 0.9574086878574531\n",
      "Circuit: 89# CX gates:  7\n",
      "1-error of circ 89 0.9574086878574531\n",
      "Circuit: 90# CX gates:  7\n",
      "1-error of circ 90 0.9574086878574531\n",
      "Circuit: 90# CX gates:  7\n",
      "1-error of circ 90 0.9574086878574531\n",
      "Circuit: 91# CX gates:  9\n",
      "1-error of circ 91 0.9452724009644479\n",
      "Circuit: 91# CX gates:  9\n",
      "1-error of circ 91 0.9452724009644479\n",
      "Circuit: 91# CX gates:  9\n",
      "1-error of circ 91 0.9452724009644479\n",
      "Circuit: 91# CX gates:  9\n",
      "1-error of circ 91 0.9452724009644479\n",
      "Circuit: 91# CX gates:  9\n",
      "1-error of circ 91 0.9452724009644479\n",
      "Circuit: 91# CX gates:  9\n",
      "1-error of circ 91 0.9455383692040399\n",
      "Circuit: 91# CX gates:  7\n",
      "1-error of circ 91 0.9574086878574531\n",
      "Circuit: 91# CX gates:  7\n",
      "1-error of circ 91 0.9574086878574531\n",
      "Circuit: 92# CX gates:  7\n",
      "1-error of circ 92 0.9574086878574531\n",
      "Circuit: 92# CX gates:  7\n",
      "1-error of circ 92 0.9574086878574531\n",
      "Circuit: 93# CX gates:  9\n",
      "1-error of circ 93 0.9452724009644479\n",
      "Circuit: 93# CX gates:  7\n",
      "1-error of circ 93 0.9574086878574531\n",
      "Circuit: 93# CX gates:  7\n",
      "1-error of circ 93 0.9574086878574531\n",
      "Circuit: 94# CX gates:  9\n",
      "1-error of circ 94 0.9452724009644479\n",
      "Circuit: 94# CX gates:  9\n",
      "1-error of circ 94 0.9452724009644479\n",
      "Circuit: 94# CX gates:  9\n",
      "1-error of circ 94 0.9452724009644479\n",
      "Circuit: 94# CX gates:  9\n",
      "1-error of circ 94 0.9452724009644479\n",
      "Circuit: 94# CX gates:  7\n",
      "1-error of circ 94 0.9574086878574531\n",
      "Circuit: 94# CX gates:  7\n",
      "1-error of circ 94 0.9574086878574531\n",
      "Circuit: 95# CX gates:  9\n",
      "1-error of circ 95 0.9452724009644479\n",
      "Circuit: 95# CX gates:  9\n",
      "1-error of circ 95 0.9452724009644479\n",
      "Circuit: 95# CX gates:  7\n",
      "1-error of circ 95 0.9574086878574531\n",
      "Circuit: 95# CX gates:  7\n",
      "1-error of circ 95 0.9574086878574531\n",
      "Circuit: 96# CX gates:  7\n",
      "1-error of circ 96 0.9574086878574531\n",
      "Circuit: 96# CX gates:  7\n",
      "1-error of circ 96 0.9574086878574531\n",
      "Circuit: 97# CX gates:  7\n",
      "1-error of circ 97 0.9574086878574531\n",
      "Circuit: 97# CX gates:  7\n",
      "1-error of circ 97 0.9574086878574531\n",
      "Circuit: 98# CX gates:  7\n",
      "1-error of circ 98 0.9574086878574531\n",
      "Circuit: 98# CX gates:  7\n",
      "1-error of circ 98 0.9574086878574531\n",
      "Circuit: 99# CX gates:  9\n",
      "1-error of circ 99 0.9452724009644479\n",
      "Circuit: 99# CX gates:  7\n",
      "1-error of circ 99 0.9574086878574531\n",
      "Circuit: 99# CX gates:  7\n",
      "1-error of circ 99 0.9574086878574531\n"
     ]
    }
   ],
   "source": [
    "jobc = job_circuit(h_features, signalshift, data, datashift, shots, real_device)\n",
    "save_jobs_to_file(jobc,'job_circuits.txt')"
   ]
  },
  {
   "cell_type": "code",
   "execution_count": 38,
   "id": "768cd381-3031-445b-bf58-23253e7b687c",
   "metadata": {
    "tags": []
   },
   "outputs": [
    {
     "name": "stderr",
     "output_type": "stream",
     "text": [
      "ibmqfactory.load_account:WARNING:2023-05-12 12:40:25,521: Credentials are already in use. The existing account in the session will be replaced.\n"
     ]
    },
    {
     "name": "stdout",
     "output_type": "stream",
     "text": [
      "id:  chf1flv9targ2vps737g  status:  JobStatus.QUEUED\n"
     ]
    }
   ],
   "source": [
    "#load jobs1\n",
    "load_jobs = load_jobs_from_file('ibmq_belem','job_circuits.txt')\n",
    "print_job_statuses(load_jobs)"
   ]
  },
  {
   "cell_type": "code",
   "execution_count": 39,
   "id": "bbf1dbda-c10e-4e0d-bdfe-906eaf8f75b5",
   "metadata": {},
   "outputs": [
    {
     "name": "stderr",
     "output_type": "stream",
     "text": [
      "No artists with labels found to put in legend.  Note that artists whose label start with an underscore are ignored when legend() is called with no argument.\n",
      "No artists with labels found to put in legend.  Note that artists whose label start with an underscore are ignored when legend() is called with no argument.\n"
     ]
    },
    {
     "data": {
      "image/png": "[encoded data removed]",
      "text/plain": [
       "<Figure size 640x480 with 1 Axes>"
      ]
     },
     "metadata": {},
     "output_type": "display_data"
    },
    {
     "data": {
      "image/png": "[encoded data removed]",
      "text/plain": [
       "<Figure size 640x480 with 1 Axes>"
      ]
     },
     "metadata": {},
     "output_type": "display_data"
    }
   ],
   "source": [
    "for job in load_jobs:\n",
    "    countsa = retrieve_job_results(job, blocking=False) \n",
    "    SNR(countsa, data, datashift, h_features, signalshift, shots)"
   ]
  },
  {
   "cell_type": "code",
   "execution_count": null,
   "id": "5dc55274-fc2f-456e-8946-9e8786e6b495",
   "metadata": {},
   "outputs": [],
   "source": []
  }
 ],
 "metadata": {
  "kernelspec": {
   "display_name": "Python 3 (ipykernel)",
   "language": "python",
   "name": "python3"
  },
  "language_info": {
   "codemirror_mode": {
    "name": "ipython",
    "version": 3
   },
   "file_extension": ".py",
   "mimetype": "text/x-python",
   "name": "python",
   "nbconvert_exporter": "python",
   "pygments_lexer": "ipython3",
   "version": "3.10.8"
  },
  "widgets": {
   "application/vnd.jupyter.widget-state+json": {
    "state": {
     "005df47bf22246c5a91230dbb49a125f": {
      "model_module": "@jupyter-widgets/base",
      "model_module_version": "2.0.0",
      "model_name": "LayoutModel",
      "state": {
       "width": "70px"
      }
     },
     "05802aca0b5043ddb5cf264d528e106d": {
      "model_module": "@jupyter-widgets/controls",
      "model_module_version": "2.0.0",
      "model_name": "HTMLStyleModel",
      "state": {
       "description_width": "",
       "font_size": null,
       "text_color": null
      }
     },
     "05d82f6c890a45d28f23ce9afaecf5e3": {
      "model_module": "@jupyter-widgets/base",
      "model_module_version": "2.0.0",
      "model_name": "LayoutModel",
      "state": {
       "grid_area": "right",
       "padding": "0px 0px 0px 0px",
       "width": "70px"
      }
     },
     "08590a2bb5da4def9fdd997c437251b4": {
      "model_module": "@jupyter-widgets/controls",
      "model_module_version": "2.0.0",
      "model_name": "HTMLStyleModel",
      "state": {
       "description_width": "",
       "font_size": null,
       "text_color": null
      }
     },
     "098c511a31b145b4a351da62b63036ff": {
      "model_module": "@jupyter-widgets/base",
      "model_module_version": "2.0.0",
      "model_name": "LayoutModel",
      "state": {
       "width": "190px"
      }
     },
     "0ae7e14282de4c10b7caba0329645e0c": {
      "model_module": "@jupyter-widgets/controls",
      "model_module_version": "2.0.0",
      "model_name": "HTMLStyleModel",
      "state": {
       "description_width": "",
       "font_size": null,
       "text_color": null
      }
     },
     "15892dff1c7a40f5ba03ebf5cd4c64c4": {
      "model_module": "@jupyter-widgets/controls",
      "model_module_version": "2.0.0",
      "model_name": "HTMLStyleModel",
      "state": {
       "description_width": "",
       "font_size": null,
       "text_color": null
      }
     },
     "195df8cab9ad45b6a09e8df9d092bcc8": {
      "model_module": "@jupyter-widgets/controls",
      "model_module_version": "2.0.0",
      "model_name": "HBoxModel",
      "state": {
       "children": [
        "IPY_MODEL_778fd8ee2ba54e80837901ddf3941aaf",
        "IPY_MODEL_cfba0dd715484487826944df7b7f3fe1",
        "IPY_MODEL_8226eb5d55b142c69996af157f8db6aa",
        "IPY_MODEL_9392133d05d7452e828021ac537edc8a",
        "IPY_MODEL_a9bcd003d70647f9b9c45c8ebadea236"
       ],
       "layout": "IPY_MODEL_a598b5f51edb48c39ef7e84b9ee40062"
      }
     },
     "1ca0b2eb2a694743a9e259c40c8b4bea": {
      "model_module": "@jupyter-widgets/controls",
      "model_module_version": "2.0.0",
      "model_name": "HTMLStyleModel",
      "state": {
       "description_width": "",
       "font_size": null,
       "text_color": null
      }
     },
     "29374def9164480fbf5c57fe08df57c2": {
      "model_module": "@jupyter-widgets/base",
      "model_module_version": "2.0.0",
      "model_name": "LayoutModel",
      "state": {}
     },
     "2b0f905c27a541aab455676cd42fc62e": {
      "model_module": "@jupyter-widgets/controls",
      "model_module_version": "2.0.0",
      "model_name": "HTMLModel",
      "state": {
       "layout": "IPY_MODEL_44cef36c29394c60bcb789d21aef18c6",
       "style": "IPY_MODEL_08590a2bb5da4def9fdd997c437251b4",
       "value": "-"
      }
     },
     "2bc0394a7ada491399e1361d8b8f3e69": {
      "model_module": "@jupyter-widgets/base",
      "model_module_version": "2.0.0",
      "model_name": "LayoutModel",
      "state": {
       "grid_template_areas": "\n                                       \". . . . right \"\n                                        ",
       "grid_template_columns": "20% 20% 20% 20% 20%",
       "width": "100%"
      }
     },
     "2bf4579ae02a49ccbdcb69a471c234d0": {
      "model_module": "@jupyter-widgets/controls",
      "model_module_version": "2.0.0",
      "model_name": "HTMLStyleModel",
      "state": {
       "description_width": "",
       "font_size": null,
       "text_color": null
      }
     },
     "2cc5febf370e4c4e9c97066fb73dec59": {
      "model_module": "@jupyter-widgets/controls",
      "model_module_version": "2.0.0",
      "model_name": "HTMLStyleModel",
      "state": {
       "description_width": "",
       "font_size": null,
       "text_color": null
      }
     },
     "2ccf8f582ea34396bd6c2dd4d89c8a46": {
      "model_module": "@jupyter-widgets/controls",
      "model_module_version": "2.0.0",
      "model_name": "HTMLModel",
      "state": {
       "layout": "IPY_MODEL_ff2b9b202ad741b0b500d5b14ac28177",
       "style": "IPY_MODEL_15892dff1c7a40f5ba03ebf5cd4c64c4",
       "value": "job has been cancelled"
      }
     },
     "2dbe84f338e646eebef9be2ba9d381c8": {
      "model_module": "@jupyter-widgets/controls",
      "model_module_version": "2.0.0",
      "model_name": "GridBoxModel",
      "state": {
       "children": [
        "IPY_MODEL_62c2c724f43c41bbb5f689691f9211f4"
       ],
       "layout": "IPY_MODEL_2bc0394a7ada491399e1361d8b8f3e69"
      }
     },
     "321774e017584e198466fae5380e9e1a": {
      "model_module": "@jupyter-widgets/controls",
      "model_module_version": "2.0.0",
      "model_name": "HTMLStyleModel",
      "state": {
       "description_width": "",
       "font_size": null,
       "text_color": null
      }
     },
     "33a0a7395adf4af3a0224cf8367fc7f9": {
      "model_module": "@jupyter-widgets/base",
      "model_module_version": "2.0.0",
      "model_name": "LayoutModel",
      "state": {
       "width": "145px"
      }
     },
     "371a3a9f09314da39d381cb0fd6f83dd": {
      "model_module": "@jupyter-widgets/controls",
      "model_module_version": "2.0.0",
      "model_name": "HTMLStyleModel",
      "state": {
       "description_width": "",
       "font_size": null,
       "text_color": null
      }
     },
     "37284d7e93c3456795c6c5485f540ead": {
      "model_module": "@jupyter-widgets/base",
      "model_module_version": "2.0.0",
      "model_name": "LayoutModel",
      "state": {}
     },
     "3c129535a4124ef48ad958e415d14750": {
      "model_module": "@jupyter-widgets/controls",
      "model_module_version": "2.0.0",
      "model_name": "HTMLModel",
      "state": {
       "layout": "IPY_MODEL_6218f626e4224567bd456b91f52b008a",
       "style": "IPY_MODEL_cda13f698e0e4c7987a3b23289501e02",
       "value": "<p style='font-family: IBM Plex Sans, Arial, Helvetica, sans-serif; font-size: 20px; font-weight: medium;'>Circuit Properties</p>"
      }
     },
     "3d25add2c65949d5a19393b4f48fae82": {
      "model_module": "@jupyter-widgets/controls",
      "model_module_version": "2.0.0",
      "model_name": "HTMLStyleModel",
      "state": {
       "description_width": "",
       "font_size": null,
       "text_color": null
      }
     },
     "439dded3b63a4b5f89338f556f534027": {
      "model_module": "@jupyter-widgets/controls",
      "model_module_version": "2.0.0",
      "model_name": "HTMLStyleModel",
      "state": {
       "description_width": "",
       "font_size": null,
       "text_color": null
      }
     },
     "441f82895b674e1bb03ee29d1121d55e": {
      "model_module": "@jupyter-widgets/base",
      "model_module_version": "2.0.0",
      "model_name": "LayoutModel",
      "state": {
       "margin": "0px 5px 0px 0px",
       "width": "32px"
      }
     },
     "44cef36c29394c60bcb789d21aef18c6": {
      "model_module": "@jupyter-widgets/base",
      "model_module_version": "2.0.0",
      "model_name": "LayoutModel",
      "state": {
       "width": "70px"
      }
     },
     "4e823736054f4b30b57a58d1acea5187": {
      "model_module": "@jupyter-widgets/base",
      "model_module_version": "2.0.0",
      "model_name": "LayoutModel",
      "state": {
       "max_width": "700px",
       "min_width": "700px"
      }
     },
     "4f32f319890845fab19a0fc1eb6afc87": {
      "model_module": "@jupyter-widgets/controls",
      "model_module_version": "2.0.0",
      "model_name": "ButtonStyleModel",
      "state": {
       "font_family": null,
       "font_size": null,
       "font_style": null,
       "font_variant": null,
       "font_weight": null,
       "text_color": null,
       "text_decoration": null
      }
     },
     "55a2239e41584475b4aeff3b2015500f": {
      "model_module": "@jupyter-widgets/base",
      "model_module_version": "2.0.0",
      "model_name": "LayoutModel",
      "state": {
       "width": "190px"
      }
     },
     "56fa62068ebc44de8d42cc88cc6605ca": {
      "model_module": "@jupyter-widgets/base",
      "model_module_version": "2.0.0",
      "model_name": "LayoutModel",
      "state": {
       "width": "95px"
      }
     },
     "5a11634305be43a7985a130ef8547ab6": {
      "model_module": "@jupyter-widgets/controls",
      "model_module_version": "2.0.0",
      "model_name": "HTMLModel",
      "state": {
       "layout": "IPY_MODEL_a02cac51ddc44a7694d4be9b1625444e",
       "style": "IPY_MODEL_3d25add2c65949d5a19393b4f48fae82",
       "value": "<font style='color:#FFB000'>CANCELLED</font>"
      }
     },
     "5c761f4ffdca449d87e8bae8219fe830": {
      "model_module": "@jupyter-widgets/controls",
      "model_module_version": "2.0.0",
      "model_name": "HTMLModel",
      "state": {
       "layout": "IPY_MODEL_29374def9164480fbf5c57fe08df57c2",
       "style": "IPY_MODEL_5ca0293d22a94778a42fdd2fd51afce3",
       "value": "job has been cancelled"
      }
     },
     "5ca0293d22a94778a42fdd2fd51afce3": {
      "model_module": "@jupyter-widgets/controls",
      "model_module_version": "2.0.0",
      "model_name": "HTMLStyleModel",
      "state": {
       "description_width": "",
       "font_size": null,
       "text_color": null
      }
     },
     "5fe4acef9d9740c0b744dfd7c5a09fa1": {
      "model_module": "@jupyter-widgets/base",
      "model_module_version": "2.0.0",
      "model_name": "LayoutModel",
      "state": {
       "width": "145px"
      }
     },
     "6218f626e4224567bd456b91f52b008a": {
      "model_module": "@jupyter-widgets/base",
      "model_module_version": "2.0.0",
      "model_name": "LayoutModel",
      "state": {
       "margin": "0px 0px 10px 0px"
      }
     },
     "62c2c724f43c41bbb5f689691f9211f4": {
      "model_module": "@jupyter-widgets/controls",
      "model_module_version": "2.0.0",
      "model_name": "ButtonModel",
      "state": {
       "button_style": "primary",
       "description": "Clear",
       "layout": "IPY_MODEL_05d82f6c890a45d28f23ce9afaecf5e3",
       "style": "IPY_MODEL_4f32f319890845fab19a0fc1eb6afc87",
       "tooltip": null
      }
     },
     "644f7121bf8344c9bff5ce5e74e260f2": {
      "model_module": "@jupyter-widgets/controls",
      "model_module_version": "2.0.0",
      "model_name": "ButtonStyleModel",
      "state": {
       "button_color": "white",
       "font_family": null,
       "font_size": null,
       "font_style": null,
       "font_variant": null,
       "font_weight": null,
       "text_color": null,
       "text_decoration": null
      }
     },
     "695d6c2701aa417c9ea6b67295a971bc": {
      "model_module": "@jupyter-widgets/controls",
      "model_module_version": "2.0.0",
      "model_name": "HTMLModel",
      "state": {
       "layout": "IPY_MODEL_ef62465049344c2e8f98e73f9582b2d7",
       "style": "IPY_MODEL_2bf4579ae02a49ccbdcb69a471c234d0",
       "value": "<font style='color:#34BC6E'>DONE</font>"
      }
     },
     "6af6f0dc3390409fb5724c3d85ebd05e": {
      "model_module": "@jupyter-widgets/base",
      "model_module_version": "2.0.0",
      "model_name": "LayoutModel",
      "state": {
       "max_width": "700px",
       "min_width": "700px"
      }
     },
     "71d3982f6ce94b00bae266788a794cf4": {
      "model_module": "@jupyter-widgets/base",
      "model_module_version": "2.0.0",
      "model_name": "LayoutModel",
      "state": {
       "width": "70px"
      }
     },
     "778fd8ee2ba54e80837901ddf3941aaf": {
      "model_module": "@jupyter-widgets/controls",
      "model_module_version": "2.0.0",
      "model_name": "HTMLModel",
      "state": {
       "layout": "IPY_MODEL_098c511a31b145b4a351da62b63036ff",
       "style": "IPY_MODEL_9c9145b3e8b148128f6e213e0fed27d0",
       "value": "<h5>Job ID</h5>"
      }
     },
     "77c97271821d41bcba7a0699f08b1d30": {
      "model_module": "@jupyter-widgets/controls",
      "model_module_version": "2.0.0",
      "model_name": "ButtonModel",
      "state": {
       "icon": "close",
       "layout": "IPY_MODEL_7caa99948b994c27946f3720485d601a",
       "style": "IPY_MODEL_644f7121bf8344c9bff5ce5e74e260f2",
       "tooltip": null
      }
     },
     "7caa99948b994c27946f3720485d601a": {
      "model_module": "@jupyter-widgets/base",
      "model_module_version": "2.0.0",
      "model_name": "LayoutModel",
      "state": {
       "margin": "0px 5px 0px 0px",
       "width": "32px"
      }
     },
     "7cbd0271104942819f0386967868da30": {
      "model_module": "@jupyter-widgets/base",
      "model_module_version": "2.0.0",
      "model_name": "LayoutModel",
      "state": {}
     },
     "8049705d89b94f46a59c56990d303524": {
      "model_module": "@jupyter-widgets/controls",
      "model_module_version": "2.0.0",
      "model_name": "HTMLStyleModel",
      "state": {
       "description_width": "",
       "font_size": null,
       "text_color": null
      }
     },
     "81acbcba60d14204bd11d54b73b36379": {
      "model_module": "@jupyter-widgets/controls",
      "model_module_version": "2.0.0",
      "model_name": "HTMLModel",
      "state": {
       "layout": "IPY_MODEL_a328b3114ea64c3ebfb714b91198f9d5",
       "style": "IPY_MODEL_8049705d89b94f46a59c56990d303524",
       "value": "ibmq_guadalupe"
      }
     },
     "8226eb5d55b142c69996af157f8db6aa": {
      "model_module": "@jupyter-widgets/controls",
      "model_module_version": "2.0.0",
      "model_name": "HTMLModel",
      "state": {
       "layout": "IPY_MODEL_c2359ed064344b75a88f1beddd2b193a",
       "style": "IPY_MODEL_92ca96aed77443beaa867413721c4d19",
       "value": "<h5>Status</h5>"
      }
     },
     "876f37e356e24bccbd59d6eb289270ac": {
      "model_module": "@jupyter-widgets/controls",
      "model_module_version": "2.0.0",
      "model_name": "ButtonStyleModel",
      "state": {
       "button_color": "white",
       "font_family": null,
       "font_size": null,
       "font_style": null,
       "font_variant": null,
       "font_weight": null,
       "text_color": null,
       "text_decoration": null
      }
     },
     "89a138d9b7444c60820964a7d4e7295e": {
      "model_module": "@jupyter-widgets/base",
      "model_module_version": "2.0.0",
      "model_name": "LayoutModel",
      "state": {
       "margin": "0px 5px 0px 0px",
       "width": "32px"
      }
     },
     "92ca96aed77443beaa867413721c4d19": {
      "model_module": "@jupyter-widgets/controls",
      "model_module_version": "2.0.0",
      "model_name": "HTMLStyleModel",
      "state": {
       "description_width": "",
       "font_size": null,
       "text_color": null
      }
     },
     "9392133d05d7452e828021ac537edc8a": {
      "model_module": "@jupyter-widgets/controls",
      "model_module_version": "2.0.0",
      "model_name": "HTMLModel",
      "state": {
       "layout": "IPY_MODEL_d2deea1d42d54fb597fe075785ecf3bb",
       "style": "IPY_MODEL_05802aca0b5043ddb5cf264d528e106d",
       "value": "<h5>Queue</h5>"
      }
     },
     "940fbce51d9242ac858dbc95fb03fc6e": {
      "model_module": "@jupyter-widgets/controls",
      "model_module_version": "2.0.0",
      "model_name": "ButtonModel",
      "state": {
       "icon": "close",
       "layout": "IPY_MODEL_89a138d9b7444c60820964a7d4e7295e",
       "style": "IPY_MODEL_d2ff7777f9c5467c9fdd2d0d70fb4b4e",
       "tooltip": null
      }
     },
     "96e7c7de3e244de79bc9217056a7496f": {
      "model_module": "@jupyter-widgets/base",
      "model_module_version": "2.0.0",
      "model_name": "LayoutModel",
      "state": {
       "width": "145px"
      }
     },
     "976610a4cf7a4f04ab1afbf7a17369c9": {
      "model_module": "@jupyter-widgets/controls",
      "model_module_version": "2.0.0",
      "model_name": "HTMLModel",
      "state": {
       "layout": "IPY_MODEL_5fe4acef9d9740c0b744dfd7c5a09fa1",
       "style": "IPY_MODEL_321774e017584e198466fae5380e9e1a",
       "value": "ibm_nairobi"
      }
     },
     "9c9145b3e8b148128f6e213e0fed27d0": {
      "model_module": "@jupyter-widgets/controls",
      "model_module_version": "2.0.0",
      "model_name": "HTMLStyleModel",
      "state": {
       "description_width": "",
       "font_size": null,
       "text_color": null
      }
     },
     "9dbb93eff4414c9e92ac89c9aeb9a84a": {
      "model_module": "@jupyter-widgets/controls",
      "model_module_version": "2.0.0",
      "model_name": "HTMLModel",
      "state": {
       "layout": "IPY_MODEL_71d3982f6ce94b00bae266788a794cf4",
       "style": "IPY_MODEL_9f461f3ec91b4a09aecdb7a88532083b",
       "value": "-"
      }
     },
     "9f461f3ec91b4a09aecdb7a88532083b": {
      "model_module": "@jupyter-widgets/controls",
      "model_module_version": "2.0.0",
      "model_name": "HTMLStyleModel",
      "state": {
       "description_width": "",
       "font_size": null,
       "text_color": null
      }
     },
     "a02cac51ddc44a7694d4be9b1625444e": {
      "model_module": "@jupyter-widgets/base",
      "model_module_version": "2.0.0",
      "model_name": "LayoutModel",
      "state": {
       "width": "95px"
      }
     },
     "a328b3114ea64c3ebfb714b91198f9d5": {
      "model_module": "@jupyter-widgets/base",
      "model_module_version": "2.0.0",
      "model_name": "LayoutModel",
      "state": {
       "width": "145px"
      }
     },
     "a598b5f51edb48c39ef7e84b9ee40062": {
      "model_module": "@jupyter-widgets/base",
      "model_module_version": "2.0.0",
      "model_name": "LayoutModel",
      "state": {
       "margin": "0px 0px 0px 37px",
       "width": "600px"
      }
     },
     "a9bcd003d70647f9b9c45c8ebadea236": {
      "model_module": "@jupyter-widgets/controls",
      "model_module_version": "2.0.0",
      "model_name": "HTMLModel",
      "state": {
       "layout": "IPY_MODEL_37284d7e93c3456795c6c5485f540ead",
       "style": "IPY_MODEL_0ae7e14282de4c10b7caba0329645e0c",
       "value": "<h5>Message</h5>"
      }
     },
     "b8d267b78dad45daa4c53db9e5c23a45": {
      "model_module": "@jupyter-widgets/controls",
      "model_module_version": "2.0.0",
      "model_name": "HTMLStyleModel",
      "state": {
       "description_width": "",
       "font_size": null,
       "text_color": null
      }
     },
     "c16ba5ccfc534bef96ed834987af2f82": {
      "model_module": "@jupyter-widgets/controls",
      "model_module_version": "2.0.0",
      "model_name": "HBoxModel",
      "state": {
       "children": [
        "IPY_MODEL_ff68053743814dfaaf08727dd4b95408",
        "IPY_MODEL_cb3d0e72e4fc4d8a887fc404cb22ba1f",
        "IPY_MODEL_976610a4cf7a4f04ab1afbf7a17369c9",
        "IPY_MODEL_f7aaed4269bf4fd38808fd82c19cc9ff",
        "IPY_MODEL_fac8950b1dec4cd3a3a557ad071f422f",
        "IPY_MODEL_5c761f4ffdca449d87e8bae8219fe830"
       ],
       "layout": "IPY_MODEL_ce9f3f2bd2814323a7e530dbdb950566"
      }
     },
     "c2359ed064344b75a88f1beddd2b193a": {
      "model_module": "@jupyter-widgets/base",
      "model_module_version": "2.0.0",
      "model_name": "LayoutModel",
      "state": {
       "width": "95px"
      }
     },
     "c6df2d69817c4669b00f13f09e5cec21": {
      "model_module": "@jupyter-widgets/controls",
      "model_module_version": "2.0.0",
      "model_name": "HTMLStyleModel",
      "state": {
       "description_width": "",
       "font_size": null,
       "text_color": null
      }
     },
     "cb3d0e72e4fc4d8a887fc404cb22ba1f": {
      "model_module": "@jupyter-widgets/controls",
      "model_module_version": "2.0.0",
      "model_name": "HTMLModel",
      "state": {
       "layout": "IPY_MODEL_f0095c19b1a44e3eab0242808f1b0664",
       "style": "IPY_MODEL_e738439fe81e4c9e9859eecb1347b324",
       "value": "chf1efj66hmpifurvhh0"
      }
     },
     "cda13f698e0e4c7987a3b23289501e02": {
      "model_module": "@jupyter-widgets/controls",
      "model_module_version": "2.0.0",
      "model_name": "HTMLStyleModel",
      "state": {
       "description_width": "",
       "font_size": null,
       "text_color": null
      }
     },
     "ce9f3f2bd2814323a7e530dbdb950566": {
      "model_module": "@jupyter-widgets/base",
      "model_module_version": "2.0.0",
      "model_name": "LayoutModel",
      "state": {
       "max_width": "700px",
       "min_width": "700px"
      }
     },
     "cfba0dd715484487826944df7b7f3fe1": {
      "model_module": "@jupyter-widgets/controls",
      "model_module_version": "2.0.0",
      "model_name": "HTMLModel",
      "state": {
       "layout": "IPY_MODEL_96e7c7de3e244de79bc9217056a7496f",
       "style": "IPY_MODEL_d5b1b7f49b104fc194c763c383189342",
       "value": "<h5>Backend</h5>"
      }
     },
     "d2deea1d42d54fb597fe075785ecf3bb": {
      "model_module": "@jupyter-widgets/base",
      "model_module_version": "2.0.0",
      "model_name": "LayoutModel",
      "state": {
       "width": "70px"
      }
     },
     "d2fd2a2db79742308a6432be20f3879a": {
      "model_module": "@jupyter-widgets/controls",
      "model_module_version": "2.0.0",
      "model_name": "HBoxModel",
      "state": {
       "children": [
        "IPY_MODEL_940fbce51d9242ac858dbc95fb03fc6e",
        "IPY_MODEL_f7ff574e5e144ba3ad03ee0b8250c732",
        "IPY_MODEL_df6bc1df162245ccbc39b5a3681d65be",
        "IPY_MODEL_695d6c2701aa417c9ea6b67295a971bc",
        "IPY_MODEL_9dbb93eff4414c9e92ac89c9aeb9a84a",
        "IPY_MODEL_f697456565814824a4184f5f97529a36"
       ],
       "layout": "IPY_MODEL_6af6f0dc3390409fb5724c3d85ebd05e"
      }
     },
     "d2ff7777f9c5467c9fdd2d0d70fb4b4e": {
      "model_module": "@jupyter-widgets/controls",
      "model_module_version": "2.0.0",
      "model_name": "ButtonStyleModel",
      "state": {
       "button_color": "white",
       "font_family": null,
       "font_size": null,
       "font_style": null,
       "font_variant": null,
       "font_weight": null,
       "text_color": null,
       "text_decoration": null
      }
     },
     "d5b1b7f49b104fc194c763c383189342": {
      "model_module": "@jupyter-widgets/controls",
      "model_module_version": "2.0.0",
      "model_name": "HTMLStyleModel",
      "state": {
       "description_width": "",
       "font_size": null,
       "text_color": null
      }
     },
     "df6bc1df162245ccbc39b5a3681d65be": {
      "model_module": "@jupyter-widgets/controls",
      "model_module_version": "2.0.0",
      "model_name": "HTMLModel",
      "state": {
       "layout": "IPY_MODEL_33a0a7395adf4af3a0224cf8367fc7f9",
       "style": "IPY_MODEL_2cc5febf370e4c4e9c97066fb73dec59",
       "value": "ibmq_belem"
      }
     },
     "e738439fe81e4c9e9859eecb1347b324": {
      "model_module": "@jupyter-widgets/controls",
      "model_module_version": "2.0.0",
      "model_name": "HTMLStyleModel",
      "state": {
       "description_width": "",
       "font_size": null,
       "text_color": null
      }
     },
     "ebfd11bed2d34721b21dfc587f4a5af6": {
      "model_module": "@jupyter-widgets/controls",
      "model_module_version": "2.0.0",
      "model_name": "HBoxModel",
      "state": {
       "children": [
        "IPY_MODEL_77c97271821d41bcba7a0699f08b1d30",
        "IPY_MODEL_fb3e9afee7f142ae86704202b5e84160",
        "IPY_MODEL_81acbcba60d14204bd11d54b73b36379",
        "IPY_MODEL_5a11634305be43a7985a130ef8547ab6",
        "IPY_MODEL_2b0f905c27a541aab455676cd42fc62e",
        "IPY_MODEL_2ccf8f582ea34396bd6c2dd4d89c8a46"
       ],
       "layout": "IPY_MODEL_4e823736054f4b30b57a58d1acea5187"
      }
     },
     "ef62465049344c2e8f98e73f9582b2d7": {
      "model_module": "@jupyter-widgets/base",
      "model_module_version": "2.0.0",
      "model_name": "LayoutModel",
      "state": {
       "width": "95px"
      }
     },
     "f0095c19b1a44e3eab0242808f1b0664": {
      "model_module": "@jupyter-widgets/base",
      "model_module_version": "2.0.0",
      "model_name": "LayoutModel",
      "state": {
       "width": "190px"
      }
     },
     "f697456565814824a4184f5f97529a36": {
      "model_module": "@jupyter-widgets/controls",
      "model_module_version": "2.0.0",
      "model_name": "HTMLModel",
      "state": {
       "layout": "IPY_MODEL_7cbd0271104942819f0386967868da30",
       "style": "IPY_MODEL_1ca0b2eb2a694743a9e259c40c8b4bea",
       "value": "job has successfully run"
      }
     },
     "f7aaed4269bf4fd38808fd82c19cc9ff": {
      "model_module": "@jupyter-widgets/controls",
      "model_module_version": "2.0.0",
      "model_name": "HTMLModel",
      "state": {
       "layout": "IPY_MODEL_56fa62068ebc44de8d42cc88cc6605ca",
       "style": "IPY_MODEL_c6df2d69817c4669b00f13f09e5cec21",
       "value": "<font style='color:#FFB000'>CANCELLED</font>"
      }
     },
     "f7ff574e5e144ba3ad03ee0b8250c732": {
      "model_module": "@jupyter-widgets/controls",
      "model_module_version": "2.0.0",
      "model_name": "HTMLModel",
      "state": {
       "layout": "IPY_MODEL_f8ac2104957e466eb91097f48bf8b0f2",
       "style": "IPY_MODEL_439dded3b63a4b5f89338f556f534027",
       "value": "chf1flv9targ2vps737g"
      }
     },
     "f8ac2104957e466eb91097f48bf8b0f2": {
      "model_module": "@jupyter-widgets/base",
      "model_module_version": "2.0.0",
      "model_name": "LayoutModel",
      "state": {
       "width": "190px"
      }
     },
     "fac8950b1dec4cd3a3a557ad071f422f": {
      "model_module": "@jupyter-widgets/controls",
      "model_module_version": "2.0.0",
      "model_name": "HTMLModel",
      "state": {
       "layout": "IPY_MODEL_005df47bf22246c5a91230dbb49a125f",
       "style": "IPY_MODEL_371a3a9f09314da39d381cb0fd6f83dd",
       "value": "-"
      }
     },
     "fb3e9afee7f142ae86704202b5e84160": {
      "model_module": "@jupyter-widgets/controls",
      "model_module_version": "2.0.0",
      "model_name": "HTMLModel",
      "state": {
       "layout": "IPY_MODEL_55a2239e41584475b4aeff3b2015500f",
       "style": "IPY_MODEL_b8d267b78dad45daa4c53db9e5c23a45",
       "value": "chf1cfn9targ2vps3dqg"
      }
     },
     "ff2b9b202ad741b0b500d5b14ac28177": {
      "model_module": "@jupyter-widgets/base",
      "model_module_version": "2.0.0",
      "model_name": "LayoutModel",
      "state": {}
     },
     "ff68053743814dfaaf08727dd4b95408": {
      "model_module": "@jupyter-widgets/controls",
      "model_module_version": "2.0.0",
      "model_name": "ButtonModel",
      "state": {
       "icon": "close",
       "layout": "IPY_MODEL_441f82895b674e1bb03ee29d1121d55e",
       "style": "IPY_MODEL_876f37e356e24bccbd59d6eb289270ac",
       "tooltip": null
      }
     }
    },
    "version_major": 2,
    "version_minor": 0
   }
  }
 },
 "nbformat": 4,
 "nbformat_minor": 5
}
